{
 "cells": [
  {
   "cell_type": "markdown",
   "metadata": {},
   "source": [
    "<h1><center>Topic Name</center></h1>\n",
    "<h4><center>\n",
    "<a style=\"text-decoration:none\" href=\"https://author1.github.io/\">Talari Venkata Sunny</a>, IIT Gandhinagar, <a style=\"text-decoration:none\" href=\"mailto:<author1>@iitgn.ac.in\">sunny.s@iitgn.ac.in</a>\n",
    "<br><br>\n",
    "<a style=\"text-decoration:none\" href=\"https://author2.github.io/\">Mekala Rishitha Ravi</a>, IIT Gandhinagar, <a style=\"text-decoration:none\" href=\"mailto:<author2>@iitgn.ac.in\">ravi.mekala@iitgn.ac.in</a>\n",
    "<br><br>\n",
    "<a style=\"text-decoration:none\" href=\"https://author3.github.io/\">Abhinav Kumar</a>, IIT Gandhinagar, <a style=\"text-decoration:none\" href=\"mailto:<author3>@iitgn.ac.in\">abhinav.kumar@iitgn.ac.in</a>\n",
    "</center></h4>"
   ]
  },
  {
   "cell_type": "markdown",
   "metadata": {},
   "source": [
    "[![Repo](https://img.shields.io/badge/GitHub-<repo_name>-brightgreen)](https://github.com/<repo_user>/<repo_name>)"
   ]
  },
  {
   "cell_type": "markdown",
   "metadata": {},
   "source": [
    "**Introduction:**\n",
    "\n",
    "The study highlights the land use\n",
    "analysis of the Tamil Nadu state of India that substantially showed decline in lakes and tanks of the city due to\n",
    "urbanization process. As a result of rapid urbanization, many of the water bodies have been lost and some\n",
    "are totally polluted. Land use analysis was done\n",
    "to show the changes in four major categories- urban, vegetation, water bodies and others that revealed\n",
    "drastic increase in urban category with sharp decline in the water bodies."
   ]
  },
  {
   "cell_type": "markdown",
   "metadata": {},
   "source": [
    "**Government measures for water bodies in Tamil Nadu**\n",
    "\n",
    "Public Works Department has been serving for the past 159 years in the construction and maintenance of Irrigation of structures and Government Buildings, massive structures and monuments stand as testimony to our engineering skill.\n",
    "\n",
    "The water for delta irrigation released from Mettur dam reaches the Grand Anicut situated at Thogur village in Thiruvaiyaru Taluk of Thanjavur District.  At Grand Anicut the water has been regulated and distributed to Cauvery, Vennar, Grand Anicut Canal and Coleroon rivers by the divisions of Lower Cauvery Basin circle Thanjavur to irrigate the command area of 4,53,046 acres. During floods the storm water is being diverted  to the Coleroon river,  the flood carrier, in the Grand Anicut and their by the irrigation systems of  Cauvery, Vennar, Grand Anicut Canal are kept intact without any damages.\n",
    "\n",
    "There was a time when life was centred around waterbodies. Those days are history. As times changed, people lost their connection with waterbodies, leaving them to shrink. As regards Thanjavur district, which has the maximum waterbodies, almost 86 per cent of them are full to the brim. Of the 559 lakes and tanks in the district, as many as 479 are 100 per cent full while 60 waterbodies are 90 to 100 per cent full."
   ]
  },
  {
   "cell_type": "code",
   "execution_count": 12,
   "metadata": {},
   "outputs": [],
   "source": [
    "import pandas as pd\n",
    "import numpy as np\n",
    "import matplotlib.pyplot as plt\n",
    "\n"
   ]
  },
  {
   "cell_type": "code",
   "execution_count": 14,
   "metadata": {},
   "outputs": [
    {
     "ename": "SyntaxError",
     "evalue": "(unicode error) 'unicodeescape' codec can't decode bytes in position 2-3: truncated \\UXXXXXXXX escape (Temp/ipykernel_6824/2231128897.py, line 1)",
     "output_type": "error",
     "traceback": [
      "\u001b[1;36m  File \u001b[1;32m\"C:\\Users\\VENKAT~1\\AppData\\Local\\Temp/ipykernel_6824/2231128897.py\"\u001b[1;36m, line \u001b[1;32m1\u001b[0m\n\u001b[1;33m    data = pd.read_csv(\"C:\\Users\\VENKATA SUNNY\\Desktop\\New folder\\writing-assignment-rishitha_sunny_abhinav\\_notebooks\\data\\tankponds.csv\")\u001b[0m\n\u001b[1;37m                                                                                                                                          ^\u001b[0m\n\u001b[1;31mSyntaxError\u001b[0m\u001b[1;31m:\u001b[0m (unicode error) 'unicodeescape' codec can't decode bytes in position 2-3: truncated \\UXXXXXXXX escape\n"
     ]
    }
   ],
   "source": [
    "data = pd.read_csv(\"C:/Users/VENKATA SUNNY/Desktop/New folder/writing-assignment-rishitha_sunny_abhinav/_notebooks/data/tankponds.csv\")"
   ]
  },
  {
   "cell_type": "code",
   "execution_count": null,
   "metadata": {},
   "outputs": [],
   "source": [
    "data.sample(5)"
   ]
  },
  {
   "cell_type": "code",
   "execution_count": null,
   "metadata": {},
   "outputs": [],
   "source": [
    "required_column_totalwaterbodies=[\"Name of the Region\",\"No. of Tanks\",\"No. of Ponds\",\"No. of Ooranis\",\"Other Water Bodies if any\",\"Total No. of Water Bodies\"]\n",
    "totalwaterbodies=data.dropna(subset=required_column_totalwaterbodies)"
   ]
  },
  {
   "cell_type": "code",
   "execution_count": null,
   "metadata": {},
   "outputs": [],
   "source": []
  }
 ],
 "metadata": {
  "interpreter": {
   "hash": "70a7c4e1b7eac33142bb2f14c8c9a4bb0699fc42a7c7a99a7c3e018cc3ae50ed"
  },
  "kernelspec": {
   "display_name": "Python 3.9.12 64-bit (windows store)",
   "language": "python",
   "name": "python3"
  },
  "language_info": {
   "codemirror_mode": {
    "name": "ipython",
    "version": 3
   },
   "file_extension": ".py",
   "mimetype": "text/x-python",
   "name": "python",
   "nbconvert_exporter": "python",
   "pygments_lexer": "ipython3",
   "version": "3.9.7"
  },
  "orig_nbformat": 4
 },
 "nbformat": 4,
 "nbformat_minor": 2
}
